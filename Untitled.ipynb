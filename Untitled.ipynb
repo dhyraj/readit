{
 "cells": [
  {
   "cell_type": "code",
   "execution_count": 2,
   "id": "d2606fd6-9228-4729-9cff-2e157f6af9d4",
   "metadata": {},
   "outputs": [],
   "source": [
    "import requests\n",
    "from bs4 import BeautifulSoup"
   ]
  },
  {
   "cell_type": "code",
   "execution_count": 3,
   "id": "23f585f2-3ccc-4924-a7ad-03a30a968f2a",
   "metadata": {},
   "outputs": [],
   "source": [
    "domain = \"https://www.reddit.com\"\n",
    "path = \"/r/AskReddit\"\n",
    "name=\"AskReddit\""
   ]
  },
  {
   "cell_type": "code",
   "execution_count": 5,
   "id": "258a830e-dccb-4431-ad92-3ceae22db035",
   "metadata": {},
   "outputs": [
    {
     "data": {
      "text/plain": [
       "'https://www.reddit.com'"
      ]
     },
     "execution_count": 5,
     "metadata": {},
     "output_type": "execute_result"
    }
   ],
   "source": [
    "domain"
   ]
  },
  {
   "cell_type": "code",
   "execution_count": null,
   "id": "305076cf-3c48-4609-a563-95409287a8f0",
   "metadata": {},
   "outputs": [],
   "source": []
  }
 ],
 "metadata": {
  "kernelspec": {
   "display_name": "Python 3 (ipykernel)",
   "language": "python",
   "name": "python3"
  },
  "language_info": {
   "codemirror_mode": {
    "name": "ipython",
    "version": 3
   },
   "file_extension": ".py",
   "mimetype": "text/x-python",
   "name": "python",
   "nbconvert_exporter": "python",
   "pygments_lexer": "ipython3",
   "version": "3.9.6"
  }
 },
 "nbformat": 4,
 "nbformat_minor": 5
}
