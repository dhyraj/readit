{
 "cells": [
  {
   "cell_type": "code",
   "execution_count": 1,
   "id": "0fcec55c-af51-47e7-b6b6-b279d8436d8c",
   "metadata": {},
   "outputs": [],
   "source": [
    "import requests\n",
    "from bs4 import BeautifulSoup\n",
    "from os import path as osPath\n",
    "import time\n",
    "import html_to_json as htmlToJson\n",
    "import json\n",
    "from inputimeout import inputimeout\n",
    "import random\n",
    "from enum import Enum\n",
    "from validations import ValidationService\n",
    "from validations import ValidationUtils\n",
    "from constants import Constants\n",
    "import time"
   ]
  },
  {
   "cell_type": "code",
   "execution_count": 80,
   "id": "4552066d-709f-420d-87fd-7052660cd17d",
   "metadata": {},
   "outputs": [],
   "source": [
    "import requests\n",
    "from bs4 import BeautifulSoup\n",
    "from enum import Enum\n",
    "import time\n",
    "\n",
    "class RedditTimeFilterType(Enum):\n",
    "    ALL = 'ALL'\n",
    "    YEAR = 'YEAR'\n",
    "    WEEK = 'WEEK'\n",
    "    MONTH = 'MONTH'\n",
    "    HOUR = 'HOUR'\n",
    "\n",
    "    _filterMapPerValue = {\n",
    "        'ALL': ALL,\n",
    "        'YEAR': YEAR,\n",
    "        'WEEK': WEEK,\n",
    "        'MONTH': MONTH,\n",
    "        'HOUR': HOUR       \n",
    "    }\n",
    "\n",
    "    def getFilterByString(filter:str):\n",
    "        if filter in RedditTimeFilterType._filterMapPerValue:\n",
    "            return RedditTimeFilterType._filterMapPerValue[filter]\n",
    "        else:\n",
    "            RedditTimeFilterType.ALL\n",
    "\n",
    "class RedditSortType(Enum):\n",
    "    HOT = 'hot'\n",
    "    NEW = 'new'\n",
    "    TYPE = 'type'\n",
    "    RISING = 'rising'\n",
    "\n",
    "    _filterMapPerValue = {\n",
    "        'hot': HOT,\n",
    "        'new': NEW,\n",
    "        'type': TYPE,\n",
    "        'rising': RISING  \n",
    "    }\n",
    "\n",
    "    def getFilterByString(sortType:str):\n",
    "\n",
    "        if sortType in RedditTimeFilterType._filterMapPerValue:\n",
    "            return RedditSortType._filterMapPerValue[sortType]\n",
    "        else:\n",
    "            return RedditSortType.NEW\n",
    "\n",
    "class Readit:\n",
    "    def __init__(self, subreddit:str = None, url:str = None) -> None:\n",
    "        self._path = None\n",
    "        self.pathForMore = \"/svc/shreddit/community-more-posts\"\n",
    "        self._url = None\n",
    "        self.subreddit = None\n",
    "        self.sort = RedditSortType.NEW\n",
    "        self.timeFilter = RedditTimeFilterType.ALL\n",
    "\n",
    "        self.setRedditUrl(url)\n",
    "        self.setSubreddit(subreddit, url)\n",
    "    \n",
    "    def setRedditUrl(self, url: str = None):\n",
    "        # ValidationService.isUrlValid(url)\n",
    "        self._url = url\n",
    "        self.setPathFromURL(url)\n",
    "    \n",
    "    def setSubreddit(self, subreddit: str = None, url: str = None):\n",
    "\n",
    "            if len(subreddit)>0: \n",
    "                # or ValidationUtils.isNotEmptyString(subreddit):\n",
    "                self.subreddit = f'r/{subreddit}' if subreddit[:2]!= 'r/' else subreddit\n",
    "            elif len(url)>0:\n",
    "                # ValidationService.isUrlValid(url)\n",
    "                # add r/ at first then remove reddit.com/r/ and the rest will have NAME/SORT/?after=\n",
    "                # split by / then at 0 we will get name of the subreddit which is added to r/ at start\n",
    "                self.subreddit = 'r/' + url.split(f'{Constants.domain[-10:]}/r/')[1].split(\"/\")[0]\n",
    "    \n",
    "    def setPathFromURL(self, url: str)-> None:\n",
    "        self._path = \"\".join(url.split(\"reddit.com\")[1:])\n",
    "                \n",
    "    \n",
    "    def getRedditUrlForPostsAfter(self, after: str = None, feedlength: int= 100):\n",
    "        if after is not None and len(after):\n",
    "            # ValidationUtils.isNotEmptyString(after): \n",
    "            self._url = f'https://www.reddit.com/{self.pathForMore}/{self.sort.value}/?after={after}%3D%3D&name={self.subreddit[2:]}&feedLength={feedlength}'\n",
    "        else:\n",
    "            self._url = f'https://www.reddit.com/{self.subreddit}/{self.sort.value}'\n",
    "        return self._url\n",
    "\n",
    "    # def getAllSubmissions(self, sort: str = None, timeFilter: str = None, limit: int = 1000):\n",
    "\n",
    "    #     if ValidationUtils.isNotEmptyString(sort): \n",
    "    #         self.sort = RedditSortType.getFilterByString(sort)\n",
    "\n",
    "    #     if ValidationUtils.isNotEmptyString(timeFilter): \n",
    "    #         self.timeFilter = RedditTimeFilterType.getFilterByString(timeFilter)\n",
    "\n",
    "    #     redditUrl = self.getRedditUrlForPostsAfter()\n",
    "    #     return self.getSubmissions(redditUrl=redditUrl, limit=limit)\n",
    "    \n",
    "    def getSubmissions(self, redditUrl: str = None, size: int = 3, limit: int = 1000):\n",
    "        \n",
    "        if limit <= 0:\n",
    "            return None\n",
    "        \n",
    "        timeOfRequest = time.time_ns()\n",
    "        print(f\"url ({timeOfRequest}): {redditUrl}\")\n",
    "        response = requests.get(redditUrl, verify= True)\n",
    "\n",
    "        with open(f\"lastResponsePages{timeOfRequest}.html\", \"w+\") as page:\n",
    "            page.write(response.text)\n",
    "\n",
    "        if response.status_code == 200:\n",
    "            redditSoup = BeautifulSoup(response.text, \"html.parser\")\n",
    "            posts = redditSoup.find_all(\"shreddit-post\")\n",
    "            if posts is not None:\n",
    "                nextToken, jsonPosts = self.processPosts(posts)\n",
    "                print(f'loaded: {len(jsonPosts)}')\n",
    "                loadMoreUrl = None\n",
    "                if len(nextToken)>0:\n",
    "                    # ValidationUtils.isNotEmptyString(nextToken):\n",
    "                    loadMoreUrl = self.getRedditUrlForPostsAfter(nextToken, feedlength=size+25)\n",
    "                # else:\n",
    "                #     nextPageMetaData= redditSoup.find('faceplate-partial', {'slot': 'load-after'})\n",
    "                #     if nextPageMetaData is not None and nextPageMetaData.attrs is not None and ValidationUtils.isNotEmptyString(nextPageMetaData.attrs['src']):\n",
    "                #         loadMoreUrl = f'{Constants.domain}{nextPageMetaData.attrs[\"src\"]}'\n",
    "\n",
    "                if len(loadMoreUrl)>0:\n",
    "                    # ValidationUtils.isNotEmptyString(loadMoreUrl):\n",
    "                    nextJsonPosts = self.getSubmissions(redditUrl=loadMoreUrl, limit=limit - len(jsonPosts), size=size+25)\n",
    "                    if nextJsonPosts is not None: \n",
    "                        jsonPosts.union(nextJsonPosts)\n",
    "\n",
    "                return jsonPosts\n",
    "        else:\n",
    "            return None\n",
    "    \n",
    "    def processPosts(self, postsContainer):\n",
    "        posts = set()\n",
    "        nextToken = None\n",
    "        for post in postsContainer:\n",
    "            if post != None and post.name != None:\n",
    "                # convert to json\n",
    "                posts.add(post)\n",
    "                if post.attrs is not None and 'more-posts-cursor' in post.attrs:\n",
    "                    # continue\n",
    "                    nextToken = post.attrs['more-posts-cursor']\n",
    "        return nextToken, posts\n",
    "\n",
    "    def getFullPostLinks(self, posts):\n",
    "        urlToPostMap = {}\n",
    "        for post in posts:\n",
    "            fullPostTag= post.find(\"a\", {\"slot\": 'full-post-link'})\n",
    "            if fullPostTag is not None and fullPostTag.attrs is not None:\n",
    "                if fullPostTag.attrs['href'] is not None:\n",
    "                    urlToPostMap[fullPostTag.attrs['href']] = post\n",
    "                elif post is not None and post.attrs is not None and post.attrs[\"permalink\"]:\n",
    "                    urlToPostMap[post.attrs[\"permalink\"]] = post\n",
    "                else:\n",
    "                    print(\"No post url found at all :(\")\n",
    "            else:\n",
    "                urlToPostMap[post.attrs[\"content-href\"]] = post\n",
    "        return urlToPostMap\n",
    "\n",
    "\n",
    "\n"
   ]
  },
  {
   "cell_type": "code",
   "execution_count": 81,
   "id": "73cae04a-622a-4069-b723-6096b61d18bf",
   "metadata": {},
   "outputs": [],
   "source": [
    "readit = Readit(subreddit=\"r/AskReddit\", url= \"https://www.reddit.com/r/AskReddit/hot/?\")"
   ]
  },
  {
   "cell_type": "code",
   "execution_count": 82,
   "id": "8261d877-2b7b-4df8-8d02-d0279f70ee7b",
   "metadata": {},
   "outputs": [],
   "source": [
    "redditUrl = readit.getRedditUrlForPostsAfter()"
   ]
  },
  {
   "cell_type": "code",
   "execution_count": 83,
   "id": "1e4ddc69-1c67-4e1f-87b9-09a7bfd0664e",
   "metadata": {},
   "outputs": [
    {
     "name": "stdout",
     "output_type": "stream",
     "text": [
      "url (1726421800644766000): https://www.reddit.com/r/AskReddit/new\n",
      "loaded: 3\n"
     ]
    }
   ],
   "source": [
    "posts = readit.getSubmissions(redditUrl=redditUrl, limit=1)"
   ]
  },
  {
   "cell_type": "code",
   "execution_count": 84,
   "id": "aab8b934-9bbc-4abb-8b60-29f4bbb889f1",
   "metadata": {},
   "outputs": [],
   "source": [
    "post = None\n",
    "for i in posts:\n",
    "    post = i\n",
    "    break"
   ]
  },
  {
   "cell_type": "code",
   "execution_count": 85,
   "id": "1fe9e3e0-7410-42a1-bc83-338bb319c5e7",
   "metadata": {},
   "outputs": [],
   "source": [
    "fullPostUrl = post.find(\"a\", {\"slot\": 'full-post-link'})"
   ]
  },
  {
   "cell_type": "code",
   "execution_count": 86,
   "id": "4fc2784b-e2cd-4d2f-b901-207046bc975b",
   "metadata": {},
   "outputs": [
    {
     "data": {
      "text/plain": [
       "'/r/AskReddit/comments/1fhi7zs/whats_the_funniest_thing_youve_seen_someone/'"
      ]
     },
     "execution_count": 86,
     "metadata": {},
     "output_type": "execute_result"
    }
   ],
   "source": [
    "fullPostUrl.attrs['href']"
   ]
  },
  {
   "cell_type": "code",
   "execution_count": 87,
   "id": "9cd9d3b7-8106-4491-a627-5683d1ae1573",
   "metadata": {},
   "outputs": [
    {
     "data": {
      "text/plain": [
       "'/r/AskReddit/comments/1fhi7zs/whats_the_funniest_thing_youve_seen_someone/'"
      ]
     },
     "execution_count": 87,
     "metadata": {},
     "output_type": "execute_result"
    }
   ],
   "source": [
    "post.attrs[\"permalink\"]"
   ]
  },
  {
   "cell_type": "code",
   "execution_count": 88,
   "id": "5115439f-f013-4104-8d13-48dda6f8721f",
   "metadata": {},
   "outputs": [
    {
     "data": {
      "text/plain": [
       "True"
      ]
     },
     "execution_count": 88,
     "metadata": {},
     "output_type": "execute_result"
    }
   ],
   "source": [
    "fullPostUrl.attrs['href'] == post.attrs[\"permalink\"]"
   ]
  },
  {
   "cell_type": "code",
   "execution_count": 89,
   "id": "96d65b1f-29ef-4593-a615-09a0278b1309",
   "metadata": {},
   "outputs": [],
   "source": [
    "urlPostMap = readit.getFullPostLinks(posts)"
   ]
  },
  {
   "cell_type": "code",
   "execution_count": 90,
   "id": "02d84471-9857-4ed2-b516-50e0cc40e261",
   "metadata": {},
   "outputs": [
    {
     "data": {
      "text/plain": [
       "dict_keys(['/r/AskReddit/comments/1fhi7zs/whats_the_funniest_thing_youve_seen_someone/', '/r/AskReddit/comments/1fhi8ad/how_do_you_overcome_fear_of_failure/', '/r/AskReddit/comments/1fhi7dy/controversial_question_but_who_do_you_think_is/'])"
      ]
     },
     "execution_count": 90,
     "metadata": {},
     "output_type": "execute_result"
    }
   ],
   "source": [
    "urlPostMap.keys()"
   ]
  },
  {
   "cell_type": "code",
   "execution_count": 91,
   "id": "df58aefc-9c5e-496a-a509-f743e245271e",
   "metadata": {},
   "outputs": [
    {
     "name": "stdout",
     "output_type": "stream",
     "text": [
      "https://www.reddit.com/r/AskReddit/comments/1fhi7zs/whats_the_funniest_thing_youve_seen_someone/\n",
      "https://www.reddit.com/r/AskReddit/comments/1fhi8ad/how_do_you_overcome_fear_of_failure/\n",
      "https://www.reddit.com/r/AskReddit/comments/1fhi7dy/controversial_question_but_who_do_you_think_is/\n"
     ]
    }
   ],
   "source": [
    "for path in urlPostMap.keys():\n",
    "    print(f'https://www.reddit.com{path}')"
   ]
  },
  {
   "cell_type": "code",
   "execution_count": 92,
   "id": "95615855-d1a5-499f-b5f5-09ef288a34a9",
   "metadata": {},
   "outputs": [
    {
     "data": {
      "text/plain": [
       "'https://www.reddit.com/r/AskReddit/comments/1fhi7zs/whats_the_funniest_thing_youve_seen_someone/'"
      ]
     },
     "execution_count": 92,
     "metadata": {},
     "output_type": "execute_result"
    }
   ],
   "source": [
    "post.attrs[\"content-href\"]"
   ]
  },
  {
   "cell_type": "code",
   "execution_count": 96,
   "id": "32078365-951a-4aab-830a-397ef097fc9a",
   "metadata": {},
   "outputs": [],
   "source": [
    "fullPostResponse = requests.get(\"https://www.reddit.com/r/AskReddit/comments/1fhi7zs/whats_the_funniest_thing_youve_seen_someone/\")"
   ]
  },
  {
   "cell_type": "code",
   "execution_count": 100,
   "id": "76112eea-2562-487d-990e-30d300c95d8c",
   "metadata": {},
   "outputs": [],
   "source": [
    "fullPost = BeautifulSoup(fullPostResponse.text, \"html.parser\")"
   ]
  },
  {
   "cell_type": "code",
   "execution_count": 104,
   "id": "67b319a3-6040-4b33-ba24-097bf9570282",
   "metadata": {},
   "outputs": [],
   "source": [
    "mainPost = fullPost.find(\"main\", {\"id\": \"main-content\"})"
   ]
  },
  {
   "cell_type": "code",
   "execution_count": 105,
   "id": "d1e4f66c-2e90-4293-b16b-487af5a01dbf",
   "metadata": {},
   "outputs": [
    {
     "data": {
      "text/plain": [
       "<main class=\"main w-full flex-grid--main-container-card right-sidebar-xs\" id=\"main-content\"><shreddit-title title=\"What's the funniest thing you've seen someone trying to eat using a knife and fork? : r/AskReddit\"></shreddit-title>\n",
       "<shreddit-post app=\"\" author=\"trojan_leon\" author-id=\"t2_13srq4djk0\" class=\"block xs:mt-xs xs:-mx-xs xs:px-xs xs:rounded-[16px] pt-xs nd:pt-xs bg-[color:var(--shreddit-content-background)] box-border mb-xs nd:visible nd:pb-2xl\" comment-count=\"0\" content-href=\"https://www.reddit.com/r/AskReddit/comments/1fhi7zs/whats_the_funniest_thing_youve_seen_someone/\" created-timestamp=\"2024-09-15T17:36:17.694000+0000\" domain=\"self.AskReddit\" icon=\"https://preview.redd.it/snoovatar/avatars/1839fd21-a8e6-4334-b05f-2b05de27a8cd-headshot.png?width=64&amp;height=64&amp;crop=smart&amp;auto=webp&amp;s=ee506ba6e5dbf097d9444c85de29b326ceb4d7c3\" id=\"t3_1fhi7zs\" is-awardable=\"\" is-desktop-viewport=\"\" is-embeddable=\"\" moderation-verdict=\"\" permalink=\"/r/AskReddit/comments/1fhi7zs/whats_the_funniest_thing_youve_seen_someone/\" post-language=\"en\" post-title=\"What's the funniest thing you've seen someone trying to eat using a knife and fork?\" post-type=\"text\" previous-actions-feature=\"\" score=\"1\" subreddit-id=\"t5_2qh1i\" subreddit-prefixed-name=\"r/AskReddit\" user-id=\"\" view-context=\"CommentsPage\" vote-type=\"\">\n",
       "<div class=\"flex justify-between text-12 pt-md pb-2xs px-md relative xs:px-0\" slot=\"credit-bar\">\n",
       "<span class=\"flex gap-xs items-center pr-xs truncate\">\n",
       "<pdp-back-button class=\"hidden xs:block w-[32px] h-[32px] pdp-float-back-btn:absolute pdp-float-back-btn:top-md pdp-float-back-btn:-left-[2.5rem]\" post-id=\"t3_1fhi7zs\" subreddit-prefixed-name=\"r/AskReddit\"></pdp-back-button>\n",
       "<span class=\"avatar text-32 items-center overflow-hidden flex-shrink-0 indent-0 w-xl h-xl\">\n",
       "<faceplate-tracker action=\"click\" class=\"visible\" noun=\"community\" source=\"post_credit_bar\">\n",
       "<a class=\"no-underline hover:no-underline active:no-underline text-secondary\" href=\"/r/AskReddit/\">\n",
       "<div class=\"h-[32px] w-[32px]\">\n",
       "<faceplate-img alt=\"r/AskReddit icon\" class=\"shreddit-subreddit-icon__icon rounded-full overflow-hidden nd:visible nd:bg-secondary-background mb-md h-full w-full\" height=\"32\" loading=\"lazy\" src=\"https://styles.redditmedia.com/t5_2qh1i/styles/communityIcon_p6kb2m6b185b1.png\" style=\"color: #646D73; background-color: #646D73\" width=\"32\"></faceplate-img>\n",
       "</div>\n",
       "<faceplate-screen-reader-content>\n",
       "              Go to AskReddit\n",
       "            </faceplate-screen-reader-content>\n",
       "</a>\n",
       "</faceplate-tracker>\n",
       "</span>\n",
       "<div class=\"flex gap-0 flex-col truncate\">\n",
       "<span class=\"flex flex-none items-center flex-row gap-2xs flex-nowrap\">\n",
       "<span class=\"flex flex-none subreddit-name neutral-content font-bold text-12 whitespace-nowrap\">\n",
       "<faceplate-tracker action=\"click\" class=\"visible\" noun=\"community\" source=\"post_credit_bar\">\n",
       "<shreddit-async-loader bundlename=\"faceplate_hovercard\" class=\"\">\n",
       "<faceplate-hovercard aria-label=\"r/AskReddit\" class=\"nd:visible\" data-id=\"community-hover-card\" position=\"bottom-start\">\n",
       "<a class=\"subreddit-name whitespace-nowrap text-12 text-neutral-content font-bold a no-visited no-underline hover:no-underline\" href=\"/r/AskReddit/\" rpl=\"\">r/AskReddit</a>\n",
       "<div class=\"max-w-[360px] w-[90vw] overflow-hidden p-0 -m-[0.5rem]\" slot=\"content\">\n",
       "<div class=\"flex flex-col\">\n",
       "<div class=\"px-sm pt-sm flex items-center\">\n",
       "<span class=\"w-[48px] h-[48px] text-24 shrink-0\">\n",
       "<faceplate-img alt=\"r/AskReddit icon\" class=\"shreddit-subreddit-icon__icon rounded-full overflow-hidden nd:visible nd:bg-secondary-background\" height=\"48\" loading=\"lazy\" src=\"https://styles.redditmedia.com/t5_2qh1i/styles/communityIcon_p6kb2m6b185b1.png\" style=\"color: #646D73; background-color: #646D73\" width=\"48\"></faceplate-img>\n",
       "</span>\n",
       "<span class=\"flex ml-xs grow-0 w-100\">\n",
       "<faceplate-tracker action=\"click\" noun=\"title\" source=\"subreddit_hovercard\">\n",
       "<a class=\"text-18 font-bold text-neutral-content-strong leading-6 a text-14 no-visited hover:underline\" href=\"/r/AskReddit/\" rpl=\"\">r/AskReddit</a>\n",
       "</faceplate-tracker>\n",
       "</span>\n",
       "<faceplate-tracker action=\"click\" class=\"ml-auto\" noun=\"join_signup_cta\" source=\"subreddit_hovercard\">\n",
       "<shreddit-join-button button-type=\"secondary\" buttonsize=\"x-small\" name=\"AskReddit\" subreddit-id=\"t5_2qh1i\"></shreddit-join-button>\n",
       "</faceplate-tracker>\n",
       "</div>\n",
       "<p class=\"px-md pt-md m-0 whitespace-normal text-14 leading-5 font-normal\">\n",
       "              r/AskReddit is the place to ask and answer thought-provoking questions.\n",
       "            </p>\n",
       "<hr class=\"mx-md mt-md border-neutral-border-weak\"/>\n",
       "<div class=\"px-md py-md flex items-center\">\n",
       "<span class=\"flex flex-col\">\n",
       "<span class=\"text-14 text-neutral-content leading-5 font-semibold\">\n",
       "<faceplate-number number=\"48307679\" pretty=\"\"></faceplate-number>\n",
       "</span>\n",
       "<span class=\"text-12 leading-4 text-neutral-content-weak\">Members</span>\n",
       "</span>\n",
       "<span class=\"ml-xl flex flex-col\" data-testid=\"community-hover-card:active-count\">\n",
       "<span class=\"text-14 text-neutral-content leading-5 font-semibold\">\n",
       "<faceplate-number number=\"9099\" pretty=\"\"></faceplate-number>\n",
       "</span>\n",
       "<span class=\"flex items-center\">\n",
       "<span class=\"bg-kiwigreen-400 rounded-full w-xs h-xs\"></span>\n",
       "<span class=\"text-12 leading-4 text-neutral-content-weak ml-2xs\">Online</span>\n",
       "</span>\n",
       "</span>\n",
       "</div>\n",
       "</div>\n",
       "</div>\n",
       "</faceplate-hovercard>\n",
       "</shreddit-async-loader>\n",
       "</faceplate-tracker>\n",
       "</span>\n",
       "<span class=\"flex items-center w-2xs text-neutral-content-weak font-normal text-12\" id=\"time-ago-separator\">•</span>\n",
       "<faceplate-timeago class=\"flex items-center whitespace-nowrap text-neutral-content-weak font-normal text-12\" short=\"\" ts=\"2024-09-15T17:36:17.694000+0000\"></faceplate-timeago>\n",
       "</span>\n",
       "<div class=\"flex flex-none flex-row gap-2xs items-center flex-nowrap\">\n",
       "<span class=\"flex\" slot=\"authorName\">\n",
       "<div class=\"inline-flex items-center max-w-full\">\n",
       "<faceplate-hovercard close-on-track=\"\" data-id=\"user-hover-card\" enter-delay=\"500\" label=\"trojan_leon details\" leave-delay=\"150\" position=\"bottom-start\">\n",
       "<faceplate-tracker action=\"click\" class=\"visible\" noun=\"user_profile\" source=\"post_credit_bar\"><a class=\"author-name whitespace-nowrap text-neutral-content visited:text-neutral-content-weak a no-visited no-underline hover:no-underline\" href=\"/user/trojan_leon/\" rpl=\"\">trojan_leon</a></faceplate-tracker>\n",
       "<div slot=\"content\">\n",
       "<faceplate-partial loading=\"programmatic\" src=\"/svc/shreddit/user-hover-card/trojan_leon\">\n",
       "<div class=\"w-5xl h-4xl flex items-center justify-center\">\n",
       "<faceplate-progress class=\"animate-spin\" value=\"20\"></faceplate-progress>\n",
       "</div>\n",
       "</faceplate-partial>\n",
       "</div>\n",
       "</faceplate-hovercard>\n",
       "</div>\n",
       "</span>\n",
       "<span class=\"items-center flex icon-container\">\n",
       "<shreddit-async-loader bundlename=\"distinguished_post_tags\" class=\"flex items-center\">\n",
       "<shreddit-distinguished-post-tags class=\"nd:visible inline-flex\" post-id=\"t3_1fhi7zs\">\n",
       "<span aria-label=\"Post distinguished by admin\" class=\"hidden font-semibold text-12 tracking-wide distinguished-admin text-identity-admin\">\n",
       "      ADMIN\n",
       "    </span>\n",
       "<span aria-label=\"Post distinguished by moderator\" class=\"hidden font-semibold text-12 tracking-wide distinguished-mod text-identity-moderator\">\n",
       "      MOD\n",
       "    </span>\n",
       "</shreddit-distinguished-post-tags>\n",
       "</shreddit-async-loader>\n",
       "</span>\n",
       "</div>\n",
       "</div>\n",
       "</span>\n",
       "<span class=\"flex items-center pl-xs\">\n",
       "<shreddit-async-loader bundlename=\"status_icons\">\n",
       "<shreddit-status-icons class=\"nd:visible flex items-center gap-2xs\" thing-id=\"t3_1fhi7zs\">\n",
       "<svg aria-label=\"Locked post\" class=\"hidden lock-status fill-[color:var(--color-identity-coins)] shrink-0\" fill=\"currentColor\" height=\"12\" icon-name=\"lock-fill\" rpl=\"\" viewbox=\"0 0 20 20\" width=\"12\" xmlns=\"http://www.w3.org/2000/svg\">\n",
       "<path d=\"M16.375 8H15V5.312A5.17 5.17 0 0 0 10 0a5.169 5.169 0 0 0-5 5.312V8H3.625A1.629 1.629 0 0 0 2 9.63v7.74A1.629 1.629 0 0 0 3.625 19h12.75A1.629 1.629 0 0 0 18 17.37V9.63A1.629 1.629 0 0 0 16.375 8Zm-3.25 0h-6.25V5.313A3.3 3.3 0 0 1 10 1.875a3.3 3.3 0 0 1 3.125 3.438V8Z\"></path>\n",
       "</svg>\n",
       "<svg aria-label=\"Sticked post\" class=\"hidden stickied-status fill-[color:var(--color-identity-moderator)] shrink-0\" fill=\"currentColor\" height=\"12\" icon-name=\"pin-fill\" rpl=\"\" viewbox=\"0 0 20 20\" width=\"12\" xmlns=\"http://www.w3.org/2000/svg\">\n",
       "<path d=\"M19.6 6.876 13.124.4a1.132 1.132 0 0 0-1.606 0l-.665.665a2.083 2.083 0 0 0-.379 2.435L6.68 7.292a2.085 2.085 0 0 0-2.432.374l-.665.665a1.14 1.14 0 0 0 0 1.612l2.53 2.53-5.82 5.82 1.414 1.414 5.82-5.82 2.53 2.53a1.132 1.132 0 0 0 1.606 0l.665-.665a2.084 2.084 0 0 0 .375-2.432L16.5 9.528a2.126 2.126 0 0 0 2.433-.375l.666-.666a1.142 1.142 0 0 0 .001-1.611Z\"></path>\n",
       "</svg>\n",
       "<svg aria-label=\"Archived post\" class=\"hidden archived-status fill-[color:var(--color-identity-coins)] shrink-0\" fill=\"currentColor\" height=\"12\" icon-name=\"archived-fill\" rpl=\"\" viewbox=\"0 0 20 20\" width=\"12\" xmlns=\"http://www.w3.org/2000/svg\">\n",
       "<path d=\"M19 2.125v3.75A1.127 1.127 0 0 1 17.875 7H2.125A1.127 1.127 0 0 1 1 5.875v-3.75A1.127 1.127 0 0 1 2.125 1h15.75A1.127 1.127 0 0 1 19 2.125Zm-1 6.287v9.453a1.19 1.19 0 0 1-1.192 1.185H3.192A1.19 1.19 0 0 1 2 17.865V8.412c.042 0 .082.013.125.013h15.75c.043 0 .083-.011.125-.013ZM13.35 11h-6.7v1.5h6.7V11Z\"></path>\n",
       "</svg>\n",
       "</shreddit-status-icons>\n",
       "</shreddit-async-loader>\n",
       "<shreddit-async-loader bundlename=\"shreddit_post_overflow_menu\" class=\"relative min-w-[32px] -mr-[7px]\">\n",
       "<shreddit-post-overflow-menu ama-ends-at=\"\" ama-starts-at=\"\" ama-state=\"\" author-id=\"t2_13srq4djk0\" author-name=\"trojan_leon\" can-update-commercial-communication-status=\"\" comment-count=\"0\" feed-index=\"\" is-desktop-viewport=\"\" permalink=\"/r/AskReddit/comments/1fhi7zs/whats_the_funniest_thing_youve_seen_someone/\" post-id=\"t3_1fhi7zs\" post-view-context=\"CommentsPage\" subreddit-id=\"t5_2qh1i\" subreddit-prefixed-name=\"r/AskReddit\">\n",
       "<div slot=\"devvit-context-actions\">\n",
       "</div>\n",
       "</shreddit-post-overflow-menu>\n",
       "</shreddit-async-loader>\n",
       "</span>\n",
       "</div>\n",
       "<h1 class=\"font-semibold text-neutral-content-strong m-0 text-18 xs:text-24 mb-xs px-md xs:px-0 xs:mb-md\" id=\"post-title-t3_1fhi7zs\" slot=\"title\">\n",
       "       What's the funniest thing you've seen someone trying to eat using a knife and fork? <faceplate-perfmark name=\"first-post-meaningful-paint\"></faceplate-perfmark>\n",
       "</h1>\n",
       "<shreddit-post-flair post-id=\"t3_1fhi7zs\" slot=\"post-flair\">\n",
       "</shreddit-post-flair>\n",
       "</shreddit-post>\n",
       "<shreddit-screenview-data data='{\"new_award\":{\"is_content_eligible\":true}}'></shreddit-screenview-data>\n",
       "<faceplate-partial class=\"block min-h-screen xs:min-h-[20rem]\" loading=\"preload\" name=\"TopComments_9T32hK\" src=\"/svc/shreddit/comments/r/askreddit/t3_1fhi7zs?render-mode=partial&amp;is_lit_ssr=false\">\n",
       "<shreddit-loading></shreddit-loading>\n",
       "</faceplate-partial>\n",
       "</main>"
      ]
     },
     "execution_count": 105,
     "metadata": {},
     "output_type": "execute_result"
    }
   ],
   "source": [
    "mainPost"
   ]
  },
  {
   "cell_type": "code",
   "execution_count": 110,
   "id": "beb283ee-1d82-484a-bd6b-e5632b891692",
   "metadata": {},
   "outputs": [],
   "source": [
    "load_more_comment_url = None\n",
    "for tag in mainPost.children:\n",
    "    if tag.name is not None and tag.name == \"faceplate-partial\":\n",
    "        load_more_comment_url = tag.attrs['src']"
   ]
  },
  {
   "cell_type": "code",
   "execution_count": 111,
   "id": "5dedeef7-df30-4552-9fa2-fa742afb52e9",
   "metadata": {},
   "outputs": [
    {
     "data": {
      "text/plain": [
       "'/svc/shreddit/comments/r/askreddit/t3_1fhi7zs?render-mode=partial&is_lit_ssr=false'"
      ]
     },
     "execution_count": 111,
     "metadata": {},
     "output_type": "execute_result"
    }
   ],
   "source": [
    "load_more_comment_url"
   ]
  },
  {
   "cell_type": "code",
   "execution_count": 112,
   "id": "662eadcf-dac0-4314-94c8-dd565c2c9825",
   "metadata": {},
   "outputs": [
    {
     "data": {
      "text/plain": [
       "'https://www.reddit.com/svc/shreddit/comments/r/askreddit/t3_1fhi7zs?render-mode=partial&is_lit_ssr=false'"
      ]
     },
     "execution_count": 112,
     "metadata": {},
     "output_type": "execute_result"
    }
   ],
   "source": [
    "f'https://www.reddit.com{load_more_comment_url}'"
   ]
  },
  {
   "cell_type": "code",
   "execution_count": null,
   "id": "97e7a30c-f0c2-47fe-9bd1-fd0a4c78d3fd",
   "metadata": {},
   "outputs": [],
   "source": []
  }
 ],
 "metadata": {
  "kernelspec": {
   "display_name": "Python 3 (ipykernel)",
   "language": "python",
   "name": "python3"
  },
  "language_info": {
   "codemirror_mode": {
    "name": "ipython",
    "version": 3
   },
   "file_extension": ".py",
   "mimetype": "text/x-python",
   "name": "python",
   "nbconvert_exporter": "python",
   "pygments_lexer": "ipython3",
   "version": "3.9.6"
  }
 },
 "nbformat": 4,
 "nbformat_minor": 5
}
